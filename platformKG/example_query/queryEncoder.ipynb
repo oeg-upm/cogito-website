{
 "cells": [
  {
   "cell_type": "code",
   "execution_count": 1,
   "metadata": {},
   "outputs": [],
   "source": [
    "import urllib.parse"
   ]
  },
  {
   "cell_type": "code",
   "execution_count": 36,
   "metadata": {},
   "outputs": [],
   "source": [
    "query = \"\"\"PREFIX td: <https://www.w3.org/2019/wot/td#>\n",
    "PREFIX rdf: <http://www.w3.org/1999/02/22-rdf-syntax-ns#>\n",
    "SELECT ?td ?title ?description ?iriHref (group_concat(?relation;separator=', ') as ?relations) WHERE {\n",
    "  ?td td:type 'https://cogito.iot.linkeddata.es/def/facility#Project' .\n",
    "  ?td td:title ?title .\n",
    "  ?td td:description ?description .\n",
    "  ?td td:hasPropertyAffordance ?property .\n",
    "  ?property td:name 'platform:hasIRI' .\n",
    "  ?property td:hasForm ?form .\n",
    "  ?form td:href ?iriHref .\n",
    "  ?td td:hasLink ?l .\n",
    "  ?l td:rel ?rel .\n",
    "  ?l td:href ?href .\n",
    "  BIND(URI(concat('https://data.cogito.iot.linkeddata.es/tdd/api/things/',?href)) AS ?fileTD) .\n",
    "  ?fileTD td:type 'qual:InformationResource' .\n",
    "  ?fileTD td:hasPropertyAffordance ?fileProperty .\n",
    "  ?fileProperty td:name 'platform:hasFile' .\n",
    "  ?fileProperty td:hasForm ?formFile .\n",
    "  ?formFile td:href ?fileHref .\n",
    "  BIND(concat(?rel,' - ',?fileHref) AS ?relation) .\n",
    "} GROUP BY ?td ?title ?description ?iriHref\n",
    "\"\"\"\n",
    "# <?fileTD> td:type 'https://cogito.iot.linkeddata.es/quality#InformationResource' ."
   ]
  },
  {
   "cell_type": "code",
   "execution_count": 37,
   "metadata": {},
   "outputs": [
    {
     "name": "stdout",
     "output_type": "stream",
     "text": [
      "PREFIX%20td%3A%20%3Chttps%3A//www.w3.org/2019/wot/td%23%3E%0APREFIX%20rdf%3A%20%3Chttp%3A//www.w3.org/1999/02/22-rdf-syntax-ns%23%3E%0ASELECT%20%3Ftd%20%3Ftitle%20%3Fdescription%20%3FiriHref%20%28group_concat%28%3Frelation%3Bseparator%3D%27%2C%20%27%29%20as%20%3Frelations%29%20WHERE%20%7B%0A%20%20%3Ftd%20td%3Atype%20%27https%3A//cogito.iot.linkeddata.es/def/facility%23Project%27%20.%0A%20%20%3Ftd%20td%3Atitle%20%3Ftitle%20.%0A%20%20%3Ftd%20td%3Adescription%20%3Fdescription%20.%0A%20%20%3Ftd%20td%3AhasPropertyAffordance%20%3Fproperty%20.%0A%20%20%3Fproperty%20td%3Aname%20%27platform%3AhasIRI%27%20.%0A%20%20%3Fproperty%20td%3AhasForm%20%3Fform%20.%0A%20%20%3Fform%20td%3Ahref%20%3FiriHref%20.%0A%20%20%3Ftd%20td%3AhasLink%20%3Fl%20.%0A%20%20%3Fl%20td%3Arel%20%3Frel%20.%0A%20%20%3Fl%20td%3Ahref%20%3Fhref%20.%0A%20%20BIND%28URI%28concat%28%27https%3A//data.cogito.iot.linkeddata.es/tdd/api/things/%27%2C%3Fhref%29%29%20AS%20%3FfileTD%29%20.%0A%20%20%3FfileTD%20td%3Atype%20%27qual%3AInformationResource%27%20.%0A%20%20%3FfileTD%20td%3AhasPropertyAffordance%20%3FfileProperty%20.%0A%20%20%3FfileProperty%20td%3Aname%20%27platform%3AhasFile%27%20.%0A%20%20%3FfileProperty%20td%3AhasForm%20%3FformFile%20.%0A%20%20%3FformFile%20td%3Ahref%20%3FfileHref%20.%0A%20%20BIND%28concat%28%3Frel%2C%27%20-%20%27%2C%3FfileHref%29%20AS%20%3Frelation%29%20.%0A%7D%20GROUP%20BY%20%3Ftd%20%3Ftitle%20%3Fdescription%20%3FiriHref%0A\n"
     ]
    }
   ],
   "source": [
    "print(urllib.parse.quote(query))"
   ]
  },
  {
   "cell_type": "code",
   "execution_count": null,
   "metadata": {},
   "outputs": [],
   "source": []
  }
 ],
 "metadata": {
  "kernelspec": {
   "display_name": "Python 3.10.2 64-bit ('3.10.2')",
   "language": "python",
   "name": "python3"
  },
  "language_info": {
   "codemirror_mode": {
    "name": "ipython",
    "version": 3
   },
   "file_extension": ".py",
   "mimetype": "text/x-python",
   "name": "python",
   "nbconvert_exporter": "python",
   "pygments_lexer": "ipython3",
   "version": "3.10.2"
  },
  "orig_nbformat": 4,
  "vscode": {
   "interpreter": {
    "hash": "a9c44c8ff930b067c6bc3f134a348d3cb9f19f01dfb46c39e0c18c228169b636"
   }
  }
 },
 "nbformat": 4,
 "nbformat_minor": 2
}
