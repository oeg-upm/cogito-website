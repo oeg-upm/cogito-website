{
 "cells": [
  {
   "cell_type": "code",
   "execution_count": 1,
   "metadata": {},
   "outputs": [],
   "source": [
    "import urllib.parse"
   ]
  },
  {
   "cell_type": "code",
   "execution_count": 2,
   "metadata": {},
   "outputs": [],
   "source": [
    "query = \"\"\"PREFIX rdf: <http://www.w3.org/1999/02/22-rdf-syntax-ns#>\n",
    "PREFIX rdfs: <http://www.w3.org/2000/01/rdf-schema#>\n",
    "PREFIX bot:   <https://w3id.org/bot#>\n",
    "PREFIX facility: <https://cogito.iot.linkeddata.es/def/facility#>\n",
    "PREFIX process: <https://cogito.iot.linkeddata.es/def/process#>\n",
    "SELECT ?project ?element WHERE {\n",
    "  ?project rdf:type facility:Project .\n",
    "  ?element rdf:type facility:Element .\n",
    "} LIMIT 10\n",
    "\n",
    "\"\"\"\n",
    "# <?fileTD> td:type 'https://cogito.iot.linkeddata.es/quality#InformationResource' ."
   ]
  },
  {
   "cell_type": "code",
   "execution_count": 3,
   "metadata": {},
   "outputs": [
    {
     "name": "stdout",
     "output_type": "stream",
     "text": [
      "PREFIX%20rdf%3A%20%3Chttp%3A//www.w3.org/1999/02/22-rdf-syntax-ns%23%3E%0APREFIX%20rdfs%3A%20%3Chttp%3A//www.w3.org/2000/01/rdf-schema%23%3E%0APREFIX%20bot%3A%20%20%20%3Chttps%3A//w3id.org/bot%23%3E%0APREFIX%20facility%3A%20%3Chttps%3A//cogito.iot.linkeddata.es/def/facility%23%3E%0APREFIX%20process%3A%20%3Chttps%3A//cogito.iot.linkeddata.es/def/process%23%3E%0ASELECT%20%3Fproject%20%3Felement%20WHERE%20%7B%0A%20%20%3Fproject%20rdf%3Atype%20facility%3AProject%20.%0A%20%20%3Felement%20rdf%3Atype%20facility%3AElement%20.%0A%7D%20LIMIT%2010%0A%0A\n"
     ]
    }
   ],
   "source": [
    "print(urllib.parse.quote(query))"
   ]
  },
  {
   "cell_type": "code",
   "execution_count": null,
   "metadata": {},
   "outputs": [],
   "source": []
  }
 ],
 "metadata": {
  "kernelspec": {
   "display_name": "Python 3.10.2 64-bit ('3.10.2')",
   "language": "python",
   "name": "python3"
  },
  "language_info": {
   "codemirror_mode": {
    "name": "ipython",
    "version": 3
   },
   "file_extension": ".py",
   "mimetype": "text/x-python",
   "name": "python",
   "nbconvert_exporter": "python",
   "pygments_lexer": "ipython3",
   "version": "3.10.2"
  },
  "orig_nbformat": 4,
  "vscode": {
   "interpreter": {
    "hash": "a9c44c8ff930b067c6bc3f134a348d3cb9f19f01dfb46c39e0c18c228169b636"
   }
  }
 },
 "nbformat": 4,
 "nbformat_minor": 2
}
